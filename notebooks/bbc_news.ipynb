{
 "cells": [
  {
   "cell_type": "code",
   "execution_count": 1,
   "metadata": {},
   "outputs": [
    {
     "name": "stderr",
     "output_type": "stream",
     "text": [
      "f:\\Thesis\\triplet_matching\\venv\\lib\\site-packages\\tqdm\\auto.py:21: TqdmWarning: IProgress not found. Please update jupyter and ipywidgets. See https://ipywidgets.readthedocs.io/en/stable/user_install.html\n",
      "  from .autonotebook import tqdm as notebook_tqdm\n",
      "Generating train split: 100%|██████████| 1197/1197 [00:00<00:00, 7080.53 examples/s]\n"
     ]
    },
    {
     "data": {
      "text/plain": [
       "{'title': 'BBC to make Watchdog part of The One Show - BBC News',\n",
       " 'published_date': '2020-02-21',\n",
       " 'authors': ['https://www.facebook.com/bbcnews'],\n",
       " 'description': 'The long-running consumer rights show will no longer be a standalone programme.',\n",
       " 'section': 'Entertainment & Arts',\n",
       " 'content': 'Matt Allwright, Nikki Fox and Steph McGovern have hosted Watchdog from Salford since 2017\\n\\nThe BBC\\'s long-running consumer rights series Watchdog is to end as a standalone programme, instead becoming part of The One Show.\\n\\nWatchdog began in 1980 as a strand of Nationwide, but proved so popular it became a separate programme in 1985.\\n\\nCo-host Steph McGovern has moved to Channel 4, but Matt Allwright and Nikki Fox will stay to front the new strand.\\n\\nThe BBC said they would investigate viewer complaints all year round rather than for two series a year.\\n\\nAlice Beer, Jonathan Maitland, Anne Robinson and Chris Choi on Watchdog in 1995\\n\\nAlison Kirkham, controller of BBC Factual, said Allwright and Fox would \"continue to be the viewers\\' trusted guide\", and would \"achieve even greater prominence and success\" in raising awareness of consumer rights.\\n\\nThe One Show editor Rob Unsworth said the change would mean that \"more than ever the team can react on behalf of consumers whenever stories come up\".\\n\\nHusband and wife John Stapleton and Lynn Faulds Wood are among the past presenters\\n\\nMore recently, it has been on air for 12 episodes per year. The 42nd and most recent series attracted an average of 3.1 million viewers per episode. Watchdog will be incorporated into The One Show this spring.\\n\\nThe news comes weeks after the corporation announced that Victoria Derbyshire\\'s investigative BBC Two programme will end as a result of cuts to BBC News.\\n\\nFollow us on Facebook, or on Twitter @BBCNewsEnts. If you have a story suggestion email entertainment.news@bbc.co.uk.',\n",
       " 'link': 'http://www.bbc.co.uk/news/entertainment-arts-51584666',\n",
       " 'top_image': 'https://ichef.bbci.co.uk/news/976/cpsprodpb/104B2/production/_110983766_watchdogbbc_cut.jpg'}"
      ]
     },
     "execution_count": 1,
     "metadata": {},
     "output_type": "execute_result"
    }
   ],
   "source": [
    "import datasets\n",
    "ds = datasets.load_dataset('RealTimeData/bbc_news_alltime', '2020-02')\n",
    "ds['train'][0]"
   ]
  },
  {
   "cell_type": "code",
   "execution_count": 4,
   "metadata": {},
   "outputs": [
    {
     "data": {
      "text/plain": [
       "1197"
      ]
     },
     "execution_count": 4,
     "metadata": {},
     "output_type": "execute_result"
    }
   ],
   "source": [
    "len(ds['train'])"
   ]
  },
  {
   "cell_type": "code",
   "execution_count": 10,
   "metadata": {},
   "outputs": [
    {
     "name": "stdout",
     "output_type": "stream",
     "text": [
      "https://ichef.bbci.co.uk/news/976/cpsprodpb/104B2/production/_110983766_watchdogbbc_cut.jpg\n"
     ]
    }
   ],
   "source": [
    "print(ds['train'][0]['top_image'])\n"
   ]
  },
  {
   "cell_type": "code",
   "execution_count": 12,
   "metadata": {},
   "outputs": [
    {
     "ename": "OSError",
     "evalue": "[Errno 22] Invalid argument: 'F:\\\\Thesis\\\\triplet_matching\\\\notebooks\\\\https:\\\\ichef.bbci.co.uk\\\\news\\\\976\\\\cpsprodpb\\\\104B2\\\\production\\\\_110983766_watchdogbbc_cut.jpg'",
     "output_type": "error",
     "traceback": [
      "\u001b[1;31m---------------------------------------------------------------------------\u001b[0m",
      "\u001b[1;31mOSError\u001b[0m                                   Traceback (most recent call last)",
      "Cell \u001b[1;32mIn[12], line 4\u001b[0m\n\u001b[0;32m      2\u001b[0m \u001b[38;5;66;03m# Load image from the dataset\u001b[39;00m\n\u001b[0;32m      3\u001b[0m image_path \u001b[38;5;241m=\u001b[39m ds[\u001b[38;5;124m'\u001b[39m\u001b[38;5;124mtrain\u001b[39m\u001b[38;5;124m'\u001b[39m][\u001b[38;5;241m0\u001b[39m][\u001b[38;5;124m'\u001b[39m\u001b[38;5;124mtop_image\u001b[39m\u001b[38;5;124m'\u001b[39m]\n\u001b[1;32m----> 4\u001b[0m image \u001b[38;5;241m=\u001b[39m \u001b[43mImage\u001b[49m\u001b[38;5;241;43m.\u001b[39;49m\u001b[43mopen\u001b[49m\u001b[43m(\u001b[49m\u001b[38;5;124;43m'\u001b[39;49m\u001b[38;5;124;43mhttps://ichef.bbci.co.uk/news/976/cpsprodpb/104B2/production/_110983766_watchdogbbc_cut.jpg\u001b[39;49m\u001b[38;5;124;43m'\u001b[39;49m\u001b[43m)\u001b[49m\u001b[38;5;241m.\u001b[39mconvert(\u001b[38;5;124m\"\u001b[39m\u001b[38;5;124mRGB\u001b[39m\u001b[38;5;124m\"\u001b[39m)\n\u001b[0;32m      5\u001b[0m image\u001b[38;5;241m.\u001b[39mshow()\n",
      "File \u001b[1;32mf:\\Thesis\\triplet_matching\\venv\\lib\\site-packages\\PIL\\Image.py:3431\u001b[0m, in \u001b[0;36mopen\u001b[1;34m(fp, mode, formats)\u001b[0m\n\u001b[0;32m   3428\u001b[0m     filename \u001b[38;5;241m=\u001b[39m os\u001b[38;5;241m.\u001b[39mpath\u001b[38;5;241m.\u001b[39mrealpath(os\u001b[38;5;241m.\u001b[39mfspath(fp))\n\u001b[0;32m   3430\u001b[0m \u001b[38;5;28;01mif\u001b[39;00m filename:\n\u001b[1;32m-> 3431\u001b[0m     fp \u001b[38;5;241m=\u001b[39m \u001b[43mbuiltins\u001b[49m\u001b[38;5;241;43m.\u001b[39;49m\u001b[43mopen\u001b[49m\u001b[43m(\u001b[49m\u001b[43mfilename\u001b[49m\u001b[43m,\u001b[49m\u001b[43m \u001b[49m\u001b[38;5;124;43m\"\u001b[39;49m\u001b[38;5;124;43mrb\u001b[39;49m\u001b[38;5;124;43m\"\u001b[39;49m\u001b[43m)\u001b[49m\n\u001b[0;32m   3432\u001b[0m     exclusive_fp \u001b[38;5;241m=\u001b[39m \u001b[38;5;28;01mTrue\u001b[39;00m\n\u001b[0;32m   3433\u001b[0m \u001b[38;5;28;01melse\u001b[39;00m:\n",
      "\u001b[1;31mOSError\u001b[0m: [Errno 22] Invalid argument: 'F:\\\\Thesis\\\\triplet_matching\\\\notebooks\\\\https:\\\\ichef.bbci.co.uk\\\\news\\\\976\\\\cpsprodpb\\\\104B2\\\\production\\\\_110983766_watchdogbbc_cut.jpg'"
     ]
    }
   ],
   "source": [
    "from PIL import Image\n",
    "# Load image from the dataset\n",
    "image_path = ds['train'][0]['top_image']\n",
    "image = Image.open(image_path).convert(\"RGB\")\n",
    "image.show()"
   ]
  },
  {
   "cell_type": "code",
   "execution_count": null,
   "metadata": {},
   "outputs": [],
   "source": []
  }
 ],
 "metadata": {
  "kernelspec": {
   "display_name": "Python 3",
   "language": "python",
   "name": "python3"
  },
  "language_info": {
   "codemirror_mode": {
    "name": "ipython",
    "version": 3
   },
   "file_extension": ".py",
   "mimetype": "text/x-python",
   "name": "python",
   "nbconvert_exporter": "python",
   "pygments_lexer": "ipython3",
   "version": "3.10.11"
  }
 },
 "nbformat": 4,
 "nbformat_minor": 2
}
